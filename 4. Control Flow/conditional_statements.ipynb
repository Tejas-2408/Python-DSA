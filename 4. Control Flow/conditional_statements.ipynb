{
 "cells": [
  {
   "cell_type": "markdown",
   "metadata": {},
   "source": [
    "#### Leap year"
   ]
  },
  {
   "cell_type": "code",
   "execution_count": 3,
   "metadata": {},
   "outputs": [
    {
     "name": "stdout",
     "output_type": "stream",
     "text": [
      "2100 is not a leap year\n"
     ]
    }
   ],
   "source": [
    "n = int(input(\"Enter year value: \"))\n",
    "if (n%4==0 & n%100!=0) | (n%400==0):\n",
    "    print(f'{n} is a leap year')\n",
    "else:\n",
    "    print(f'{n} is not a leap year')"
   ]
  },
  {
   "cell_type": "markdown",
   "metadata": {},
   "source": [
    "#### Simple Calculator"
   ]
  },
  {
   "cell_type": "code",
   "execution_count": 6,
   "metadata": {},
   "outputs": [
    {
     "name": "stdout",
     "output_type": "stream",
     "text": [
      "Error!!!! Divide by 0\n",
      "0\n"
     ]
    }
   ],
   "source": [
    "a = float(input(\"Enter first number: \"))\n",
    "b = float(input(\"Enter second number: \"))\n",
    "op = input(\"Enter operation +,-,*,/..\")\n",
    "\n",
    "result = 0\n",
    "\n",
    "if op == '+':\n",
    "    result = a+b\n",
    "elif op == \"-\":\n",
    "    result = a-b\n",
    "elif op == \"*\":\n",
    "    result = a*b\n",
    "elif op == \"/\":\n",
    "    if b==0:\n",
    "        print(\"Error!!!! Divide by 0\")\n",
    "    else:\n",
    "        result = a/b\n",
    "else:\n",
    "    print(\"Invalid operation\")\n",
    "\n",
    "print(result)"
   ]
  }
 ],
 "metadata": {
  "kernelspec": {
   "display_name": "Python 3",
   "language": "python",
   "name": "python3"
  },
  "language_info": {
   "codemirror_mode": {
    "name": "ipython",
    "version": 3
   },
   "file_extension": ".py",
   "mimetype": "text/x-python",
   "name": "python",
   "nbconvert_exporter": "python",
   "pygments_lexer": "ipython3",
   "version": "3.12.0"
  }
 },
 "nbformat": 4,
 "nbformat_minor": 2
}
