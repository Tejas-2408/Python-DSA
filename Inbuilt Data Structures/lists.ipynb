{
 "cells": [
  {
   "cell_type": "markdown",
   "metadata": {},
   "source": [
    "#### Introduction To Lists\n",
    "- Lists are ordered, mutable collections of items.\n",
    "- They can contain items of different data types."
   ]
  },
  {
   "cell_type": "code",
   "execution_count": 13,
   "metadata": {},
   "outputs": [
    {
     "name": "stdout",
     "output_type": "stream",
     "text": [
      "<class 'list'>\n"
     ]
    }
   ],
   "source": [
    "l = []\n",
    "print(type(l))"
   ]
  },
  {
   "cell_type": "code",
   "execution_count": 14,
   "metadata": {},
   "outputs": [
    {
     "name": "stdout",
     "output_type": "stream",
     "text": [
      "['tejas', 'ravi', 'kamlakar']\n",
      "['tejas', 1, 2.1, True]\n"
     ]
    }
   ],
   "source": [
    "l = ['tejas','ravi','kamlakar']\n",
    "print(l)\n",
    "mixed_l = ['tejas',1,2.1,True]\n",
    "print(mixed_l)"
   ]
  },
  {
   "cell_type": "code",
   "execution_count": 15,
   "metadata": {},
   "outputs": [
    {
     "name": "stdout",
     "output_type": "stream",
     "text": [
      "cherry\n",
      "gauva\n"
     ]
    }
   ],
   "source": [
    "### Accessing List Elements\n",
    "\n",
    "fruits=[\"apple\",\"banana\",\"cherry\",\"kiwi\",\"gauva\"]\n",
    "print(fruits[2])\n",
    "print(fruits[-1])"
   ]
  },
  {
   "cell_type": "code",
   "execution_count": 16,
   "metadata": {},
   "outputs": [
    {
     "name": "stdout",
     "output_type": "stream",
     "text": [
      "['banana', 'cherry', 'kiwi', 'gauva']\n",
      "['apple', 'banana', 'cherry']\n",
      "['cherry', 'kiwi']\n",
      "['gauva', 'kiwi', 'cherry', 'banana', 'apple']\n",
      "['apple', 'cherry', 'gauva']\n",
      "['gauva', 'kiwi', 'cherry']\n"
     ]
    }
   ],
   "source": [
    "## list slicing\n",
    "print(fruits[1:])\n",
    "print(fruits[:3])\n",
    "print(fruits[2:4])\n",
    "print(fruits[::-1])\n",
    "print(fruits[::2])\n",
    "print(fruits[-1:-4:-1])"
   ]
  },
  {
   "cell_type": "code",
   "execution_count": 17,
   "metadata": {},
   "outputs": [
    {
     "name": "stdout",
     "output_type": "stream",
     "text": [
      "['apple', 'banana', 'cherry', 'kiwi', 'gauva']\n",
      "['apple', 'orange', 'cherry', 'kiwi', 'gauva']\n"
     ]
    }
   ],
   "source": [
    "## Modifying elements\n",
    "print(fruits)\n",
    "fruits[1] = 'orange'\n",
    "print(fruits)"
   ]
  },
  {
   "cell_type": "code",
   "execution_count": 18,
   "metadata": {},
   "outputs": [
    {
     "name": "stdout",
     "output_type": "stream",
     "text": [
      "['apple', 'banana', 'orange', 'cherry', 'kiwi', 'gauva', 'watermelon']\n"
     ]
    }
   ],
   "source": [
    "## List methods\n",
    "fruits.append(\"watermelon\")\n",
    "fruits.insert(1,'banana')\n",
    "print(fruits)"
   ]
  },
  {
   "cell_type": "code",
   "execution_count": 19,
   "metadata": {},
   "outputs": [
    {
     "name": "stdout",
     "output_type": "stream",
     "text": [
      "['apple', 'banana', 'orange', 'cherry', 'kiwi', 'gauva', 'watermelon', 'apple']\n",
      "['apple', 'banana', 'orange', 'cherry', 'kiwi', 'watermelon', 'apple']\n",
      "2\n",
      "apple\n",
      "['apple', 'banana', 'orange', 'cherry', 'kiwi', 'watermelon']\n"
     ]
    }
   ],
   "source": [
    "fruits.append(\"apple\")\n",
    "print(fruits)\n",
    "fruits.remove(\"gauva\")\n",
    "print(fruits)\n",
    "print(fruits.count(\"apple\"))\n",
    "print(fruits.pop())\n",
    "print(fruits)"
   ]
  },
  {
   "cell_type": "code",
   "execution_count": 20,
   "metadata": {},
   "outputs": [
    {
     "name": "stdout",
     "output_type": "stream",
     "text": [
      "apple\n",
      "banana\n",
      "orange\n",
      "cherry\n",
      "kiwi\n",
      "watermelon\n"
     ]
    }
   ],
   "source": [
    "## Iteration\n",
    "\n",
    "for i in fruits:\n",
    "    print(i)"
   ]
  },
  {
   "cell_type": "code",
   "execution_count": 21,
   "metadata": {},
   "outputs": [
    {
     "name": "stdout",
     "output_type": "stream",
     "text": [
      "0:apple\n",
      "1:banana\n",
      "2:orange\n",
      "3:cherry\n",
      "4:kiwi\n",
      "5:watermelon\n"
     ]
    }
   ],
   "source": [
    "for index,item in enumerate(fruits):\n",
    "    print(f'{index}:{item}')"
   ]
  },
  {
   "cell_type": "markdown",
   "metadata": {},
   "source": [
    "##### List Comprehension\n",
    "\n",
    "Basics Syantax            [expression for item in iterable]\n",
    "\n",
    "with conditional logic    [expression for item in iterable if condition]\n",
    "\n",
    "Nested List Comprehension [expression for item1 in iterable1 for item2 in iterable2]"
   ]
  },
  {
   "cell_type": "code",
   "execution_count": 22,
   "metadata": {},
   "outputs": [
    {
     "data": {
      "text/plain": [
       "[0, 1, 4, 9, 16, 25, 36, 49, 64, 81, 100]"
      ]
     },
     "execution_count": 22,
     "metadata": {},
     "output_type": "execute_result"
    }
   ],
   "source": [
    "l1 = [x**2 for x in range(11)]\n",
    "l1"
   ]
  },
  {
   "cell_type": "code",
   "execution_count": 23,
   "metadata": {},
   "outputs": [
    {
     "data": {
      "text/plain": [
       "[0, 4, 16, 36, 64, 100]"
      ]
     },
     "execution_count": 23,
     "metadata": {},
     "output_type": "execute_result"
    }
   ],
   "source": [
    "l2 = [x**2 for x in range(11) if x%2==0]\n",
    "l2"
   ]
  },
  {
   "cell_type": "code",
   "execution_count": 24,
   "metadata": {},
   "outputs": [
    {
     "data": {
      "text/plain": [
       "[[0, 0],\n",
       " [0, 4],\n",
       " [0, 16],\n",
       " [0, 36],\n",
       " [0, 64],\n",
       " [0, 100],\n",
       " [1, 0],\n",
       " [1, 4],\n",
       " [1, 16],\n",
       " [1, 36],\n",
       " [1, 64],\n",
       " [1, 100],\n",
       " [4, 0],\n",
       " [4, 4],\n",
       " [4, 16],\n",
       " [4, 36],\n",
       " [4, 64],\n",
       " [4, 100],\n",
       " [9, 0],\n",
       " [9, 4],\n",
       " [9, 16],\n",
       " [9, 36],\n",
       " [9, 64],\n",
       " [9, 100],\n",
       " [16, 0],\n",
       " [16, 4],\n",
       " [16, 16],\n",
       " [16, 36],\n",
       " [16, 64],\n",
       " [16, 100],\n",
       " [25, 0],\n",
       " [25, 4],\n",
       " [25, 16],\n",
       " [25, 36],\n",
       " [25, 64],\n",
       " [25, 100],\n",
       " [36, 0],\n",
       " [36, 4],\n",
       " [36, 16],\n",
       " [36, 36],\n",
       " [36, 64],\n",
       " [36, 100],\n",
       " [49, 0],\n",
       " [49, 4],\n",
       " [49, 16],\n",
       " [49, 36],\n",
       " [49, 64],\n",
       " [49, 100],\n",
       " [64, 0],\n",
       " [64, 4],\n",
       " [64, 16],\n",
       " [64, 36],\n",
       " [64, 64],\n",
       " [64, 100],\n",
       " [81, 0],\n",
       " [81, 4],\n",
       " [81, 16],\n",
       " [81, 36],\n",
       " [81, 64],\n",
       " [81, 100],\n",
       " [100, 0],\n",
       " [100, 4],\n",
       " [100, 16],\n",
       " [100, 36],\n",
       " [100, 64],\n",
       " [100, 100]]"
      ]
     },
     "execution_count": 24,
     "metadata": {},
     "output_type": "execute_result"
    }
   ],
   "source": [
    "l3 = [[i,j] for i in l1 for j in l2]\n",
    "l3"
   ]
  },
  {
   "cell_type": "code",
   "execution_count": 25,
   "metadata": {},
   "outputs": [
    {
     "name": "stdout",
     "output_type": "stream",
     "text": [
      "[5, 5, 6, 4, 13]\n"
     ]
    }
   ],
   "source": [
    "## List Comprehension with function calls\n",
    "words = [\"hello\", \"world\", \"python\", \"list\", \"comprehension\"]\n",
    "lengths = [len(word) for word in words]\n",
    "print(lengths)  # Output: [5, 5, 6, 4, 13]"
   ]
  }
 ],
 "metadata": {
  "kernelspec": {
   "display_name": "dsavenv",
   "language": "python",
   "name": "python3"
  },
  "language_info": {
   "codemirror_mode": {
    "name": "ipython",
    "version": 3
   },
   "file_extension": ".py",
   "mimetype": "text/x-python",
   "name": "python",
   "nbconvert_exporter": "python",
   "pygments_lexer": "ipython3",
   "version": "3.12.0"
  }
 },
 "nbformat": 4,
 "nbformat_minor": 2
}
