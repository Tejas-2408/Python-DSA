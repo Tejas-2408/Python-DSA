{
 "cells": [
  {
   "cell_type": "code",
   "execution_count": 8,
   "metadata": {},
   "outputs": [],
   "source": [
    "def int_to_binary(n):\n",
    "    \"\"\"\n",
    "    Function to convert an integer to its binary representation.\n",
    "    \n",
    "    Parameters:\n",
    "    n (int): The integer to convert.\n",
    "    \n",
    "    Returns:\n",
    "    str: The binary representation of the integer.\n",
    "    \"\"\"\n",
    "    # Your code here\n",
    "    if n == 0:\n",
    "        return \"0\"  # Special case for zero\n",
    " \n",
    "    # Store the binary representation\n",
    "    binary_representation = \"\"\n",
    "    \n",
    "    # Handle negative numbers\n",
    "    is_negative = n < 0\n",
    "    if is_negative:\n",
    "        n = -n  # Work with the absolute value\n",
    " \n",
    "    # Convert to binary\n",
    "    while n > 0:\n",
    "        remainder = n % 2\n",
    "        binary_representation = str(remainder) + binary_representation  # Prepend the remainder\n",
    "        n = n // 2  # Update n to be n divided by 2 (floor division)\n",
    " \n",
    "    # Add the negative sign for negative numbers\n",
    "    if is_negative:\n",
    "        binary_representation = \"-\" + binary_representation\n",
    " \n",
    "    return binary_representation"
   ]
  },
  {
   "cell_type": "code",
   "execution_count": 9,
   "metadata": {},
   "outputs": [
    {
     "name": "stdout",
     "output_type": "stream",
     "text": [
      "-1011\n"
     ]
    }
   ],
   "source": [
    "print(int_to_binary(-11))"
   ]
  }
 ],
 "metadata": {
  "kernelspec": {
   "display_name": "dsavenv",
   "language": "python",
   "name": "python3"
  },
  "language_info": {
   "codemirror_mode": {
    "name": "ipython",
    "version": 3
   },
   "file_extension": ".py",
   "mimetype": "text/x-python",
   "name": "python",
   "nbconvert_exporter": "python",
   "pygments_lexer": "ipython3",
   "version": "3.12.0"
  }
 },
 "nbformat": 4,
 "nbformat_minor": 2
}
